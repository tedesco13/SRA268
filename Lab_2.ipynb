{
  "nbformat": 4,
  "nbformat_minor": 0,
  "metadata": {
    "colab": {
      "name": "Lab 2.ipynb",
      "provenance": [],
      "authorship_tag": "ABX9TyM7wQNhUNyg/ATlrXMLDcCY",
      "include_colab_link": true
    },
    "kernelspec": {
      "name": "python3",
      "display_name": "Python 3"
    }
  },
  "cells": [
    {
      "cell_type": "markdown",
      "metadata": {
        "id": "view-in-github",
        "colab_type": "text"
      },
      "source": [
        "<a href=\"https://colab.research.google.com/github/tedesco13/SRA268/blob/master/Lab_2.ipynb\" target=\"_parent\"><img src=\"https://colab.research.google.com/assets/colab-badge.svg\" alt=\"Open In Colab\"/></a>"
      ]
    },
    {
      "cell_type": "markdown",
      "metadata": {
        "id": "wvRsFBMKNmNy",
        "colab_type": "text"
      },
      "source": [
        "#Graph Types\n"
      ]
    },
    {
      "cell_type": "markdown",
      "metadata": {
        "id": "h9Gim_U2NqoM",
        "colab_type": "text"
      },
      "source": [
        "Lily Tedesco\n",
        "\n"
      ]
    },
    {
      "cell_type": "markdown",
      "metadata": {
        "id": "NFFxjkRMNzHr",
        "colab_type": "text"
      },
      "source": [
        "#Deviation"
      ]
    },
    {
      "cell_type": "markdown",
      "metadata": {
        "id": "ISjt57ZAN1fN",
        "colab_type": "text"
      },
      "source": [
        "![alt text](https://raw.githubusercontent.com/tedesco13/SRA268/master/image/Deviation.png)"
      ]
    },
    {
      "cell_type": "markdown",
      "metadata": {
        "id": "d9X0dUuKN3u7",
        "colab_type": "text"
      },
      "source": [
        "  I created a diverged bar graph displaying the difference in lose points between the 2002 season and 2012 season. It compares the amount of lose points in each region and for the two years. It allows the view to easily see which year was worse for each region and which region did worse in that specific year. You are viewing it from the same fixed point in the middle which makes it so convenient to compare to each other. The colors also help to separate and make the starting point more clear. I chose to include the values besides the bars because the numbers were fairly close and I wanted an additional reference for comparison."
      ]
    },
    {
      "cell_type": "markdown",
      "metadata": {
        "id": "ZRp9lwgiWfMA",
        "colab_type": "text"
      },
      "source": [
        "#Correlation"
      ]
    },
    {
      "cell_type": "markdown",
      "metadata": {
        "id": "zG8bjq5LWh2b",
        "colab_type": "text"
      },
      "source": [
        "![alt text](https://raw.githubusercontent.com/tedesco13/SRA268/master/image/correlation.png)"
      ]
    },
    {
      "cell_type": "markdown",
      "metadata": {
        "id": "4ow7fUpkWnFL",
        "colab_type": "text"
      },
      "source": [
        "  I chose to create a scatter plot to demonstrate correlation. It shows the relationship between two or more points. The variables I decided to compare were win points and lose points. I chose to put win points on the y-axis and lose points on the x-axis. After creating the plot it is clear that there is a positive association between the two. As the lose points increase so do the win points. I expected this when making it because in each individual game you need more points to win. I had to adjust the size of the dots slightly because they are very clustered around areas as a lot of scores were similar. I chose to allow some cluster because I think that allows the viewer to observe the similarity in so many scores as well."
      ]
    },
    {
      "cell_type": "markdown",
      "metadata": {
        "id": "Zff1nPq0WruB",
        "colab_type": "text"
      },
      "source": [
        "#Ranking"
      ]
    },
    {
      "cell_type": "markdown",
      "metadata": {
        "id": "dl-AKwYfWwP_",
        "colab_type": "text"
      },
      "source": [
        "![alt text](https://raw.githubusercontent.com/tedesco13/SRA268/master/image/ranking.png)"
      ]
    },
    {
      "cell_type": "markdown",
      "metadata": {
        "id": "pgVoUwlsW2k3",
        "colab_type": "text"
      },
      "source": [
        "  For my ranking graph I chose to create an ordered bar graph. I think this allows the viewer to easily see the difference between each value and where that value stands relative to others. I chose to observe win points per school. I ordered the data most points to least. You can look at this graph and easily see which school has the most win points and how closely the team behind them is to catching up. I think this is the best and most clear way to organize this data and the most efficient way to compare which schools have scored more points in a winning game. The data appears very small, howerver I don't know if I would change it becuase I think when comparing this it is important to include all teams.\n",
        "  "
      ]
    },
    {
      "cell_type": "markdown",
      "metadata": {
        "id": "8T2v3uSZXDhi",
        "colab_type": "text"
      },
      "source": [
        "#Distribution"
      ]
    },
    {
      "cell_type": "markdown",
      "metadata": {
        "id": "WjPESfY7XKDv",
        "colab_type": "text"
      },
      "source": [
        "![alt text](https://raw.githubusercontent.com/tedesco13/SRA268/master/image/distribution.png)"
      ]
    },
    {
      "cell_type": "markdown",
      "metadata": {
        "id": "cmazDUKJXPti",
        "colab_type": "text"
      },
      "source": [
        "I created a boxplot as my distribution graph. I chose to compare winning points and winning seeds. It allowed me to see where the seeds fall in number of points scored and whether or not there were any outliers that have either scored way more or way less. It was also interesting to see how closely some of the seeds have scored to one another and to the median. I expected there to be a correlation as the higher seed has won more games and likely performs better to score more points. The results of the graph were similar to what I expected. The top few seeds were clear outliers scoring much more than the numbers in the range and the lowest few seeds were outliers scoring much less than the range. I learned there were many of the mid ranged seeds that have scored roughly the same amount of points in games won."
      ]
    },
    {
      "cell_type": "markdown",
      "metadata": {
        "id": "jAKbkjbbXUex",
        "colab_type": "text"
      },
      "source": [
        "Change Over Time"
      ]
    },
    {
      "cell_type": "markdown",
      "metadata": {
        "id": "o7hrUjmHXWk1",
        "colab_type": "text"
      },
      "source": [
        "![alt text](https://raw.githubusercontent.com/tedesco13/SRA268/master/image/change%20over%20time.png)"
      ]
    },
    {
      "cell_type": "markdown",
      "metadata": {
        "id": "atIEmD0pXazP",
        "colab_type": "text"
      },
      "source": [
        "To show change over time I created a line plot. I chose to plot losing points for every year of the tournament from 1985-2017. I was curious to see if the amount of points scored by the losing team changed over the years because the style of play, a few rules, etc. have changed in the NCAA since 1985. Based on my graph, there is fluctuation between all of the years but not a clear constant change. The amount of points scored has seemed to increase slightly over the past few years but not drastic enough to say it is a definitive trend. I think this graph would be useful to do in a few years to see if the points continue to increase. "
      ]
    },
    {
      "cell_type": "markdown",
      "metadata": {
        "id": "mIMTJ3zQXd5C",
        "colab_type": "text"
      },
      "source": [
        "#Magnitude"
      ]
    },
    {
      "cell_type": "markdown",
      "metadata": {
        "id": "z4b0qYwyXfQP",
        "colab_type": "text"
      },
      "source": [
        "![alt text](https://raw.githubusercontent.com/tedesco13/SRA268/master/image/magnitude.png)"
      ]
    },
    {
      "cell_type": "markdown",
      "metadata": {
        "id": "j6BGzqqyXjhd",
        "colab_type": "text"
      },
      "source": [
        "For my magnitude graph I decided to create a paired bar graph. I think it is a clear way to compare data and is fairly easy to read. I chose to compare winning points and losing points per year from 2007-2017. After making the graph I discovered it may not be the best value to compare because the win points are always going to be greater than the lose points. However, with this type of graph the difference between the two is a lot more clear. For example it is clear in 2013 that there was a greater difference between the two, but when compared to the other years, not that many more points were scored by the winning teams. This could indicate a really strong defensive year. It highlights differences between points scored per year and winning vs. losing points."
      ]
    },
    {
      "cell_type": "markdown",
      "metadata": {
        "id": "w-lfmfcXXl2w",
        "colab_type": "text"
      },
      "source": [
        "#Part-to-Whole"
      ]
    },
    {
      "cell_type": "markdown",
      "metadata": {
        "id": "rObPXx5gXpI5",
        "colab_type": "text"
      },
      "source": [
        "![alt text](https://raw.githubusercontent.com/tedesco13/SRA268/master/image/part%20to%20whole.png)"
      ]
    },
    {
      "cell_type": "markdown",
      "metadata": {
        "id": "4-Yq0rdVXt8K",
        "colab_type": "text"
      },
      "source": [
        "I created a treemap as my part-to-whole graph. I wanted to display the amount of games that went into overtime per year compared to every other year. I think this was a good way to show this dara because of how low the number of ot is per year, when compared to other data the number seems miniscule, even compared to the number of games played. I think the best way to do it is to compare the number that occur per year and compare that to the other years, which is exactly what my treemap does. I was surprised by how many years there were over 4 games that went into overtime. The bracket is very competitive, but most of the games I watched were finished in regulation. I also think it is easy to see how many different years a specific amount of games went into overtime."
      ]
    }
  ]
}