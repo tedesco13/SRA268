{
  "nbformat": 4,
  "nbformat_minor": 0,
  "metadata": {
    "colab": {
      "name": "Untitled1.ipynb",
      "provenance": [],
      "authorship_tag": "ABX9TyPGBoHad8ZbSQQDCvv7w39H",
      "include_colab_link": true
    },
    "kernelspec": {
      "name": "python3",
      "display_name": "Python 3"
    }
  },
  "cells": [
    {
      "cell_type": "markdown",
      "metadata": {
        "id": "view-in-github",
        "colab_type": "text"
      },
      "source": [
        "<a href=\"https://colab.research.google.com/github/tedesco13/SRA268/blob/master/Lily%20Tedesco%20Lab%201.ipynb\" target=\"_parent\"><img src=\"https://colab.research.google.com/assets/colab-badge.svg\" alt=\"Open In Colab\"/></a>"
      ]
    },
    {
      "cell_type": "code",
      "metadata": {
        "id": "Nnx1B5IcDpFE",
        "colab_type": "code",
        "colab": {}
      },
      "source": [
        ""
      ],
      "execution_count": 0,
      "outputs": []
    },
    {
      "cell_type": "markdown",
      "metadata": {
        "id": "CXfUJiuODtp1",
        "colab_type": "text"
      },
      "source": [
        "## Max Temperature's Effect on Precipitation and Snow in January 2017\n"
      ]
    },
    {
      "cell_type": "markdown",
      "metadata": {
        "id": "poTpyrdDsgdT",
        "colab_type": "text"
      },
      "source": [
        "## Outline"
      ]
    },
    {
      "cell_type": "markdown",
      "metadata": {
        "id": "g0p3WdVLskm4",
        "colab_type": "text"
      },
      "source": [
        "I wanted to create a graph that would highlight the trends in max temperature, precipitation and snow in January of 2017. I plotted all of the points of each variable (temperature,(in Fahrenheit), precipitation, and snow (in inches)) vs. all 31 days in January and created a line graph so that I could see how each changed throughout the month individually and whether or not there was any correlation between the three variables."
      ]
    },
    {
      "cell_type": "markdown",
      "metadata": {
        "id": "4sFBzsxiskxv",
        "colab_type": "text"
      },
      "source": [
        "## Graph"
      ]
    },
    {
      "cell_type": "markdown",
      "metadata": {
        "id": "tBowkFwssnpN",
        "colab_type": "text"
      },
      "source": [
        "![photo of graph](https://raw.githubusercontent.com/tedesco13/SRA268/master/image/graph.png)"
      ]
    },
    {
      "cell_type": "markdown",
      "metadata": {
        "id": "pJn4aKGCsoMV",
        "colab_type": "text"
      },
      "source": [
        "## Conclusion"
      ]
    },
    {
      "cell_type": "markdown",
      "metadata": {
        "id": "mruFkKg4squ2",
        "colab_type": "text"
      },
      "source": [
        "It is difficult to make a definitive conlusion solely off of the data given. I would suggest comparing to different months or years; however, I think some assumptions can be observed from this graph. The temperature throughout January of 2017 was very sporadic and spiked and dropped multiple times throughouyt the month. Both precipitation and snow were pretty consistently under .05 inches a day with a few spikes throughout the month. The days in which precipitation spiked it seemed as though snow also spiked either that day or a few days after. I also noticed that when there was higher precipitation and lower temperature, there was an increase in snow. There are however instances where all three lines had a similar pattern and were all increasing or decreasing. I could not confidently declare a clear correlation between temperature, snow, and precipitation without conducting further research and ruling out coincidence.  "
      ]
    }
  ]
}