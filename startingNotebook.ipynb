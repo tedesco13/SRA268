{
  "nbformat": 4,
  "nbformat_minor": 0,
  "metadata": {
    "colab": {
      "name": "startingNotebook.ipynb",
      "provenance": [],
      "toc_visible": true,
      "authorship_tag": "ABX9TyNye6rQWwUxqpSQa1n+OcIg",
      "include_colab_link": true
    },
    "kernelspec": {
      "name": "python3",
      "display_name": "Python 3"
    }
  },
  "cells": [
    {
      "cell_type": "markdown",
      "metadata": {
        "id": "view-in-github",
        "colab_type": "text"
      },
      "source": [
        "<a href=\"https://colab.research.google.com/github/tedesco13/SRA268/blob/master/startingNotebook.ipynb\" target=\"_parent\"><img src=\"https://colab.research.google.com/assets/colab-badge.svg\" alt=\"Open In Colab\"/></a>"
      ]
    },
    {
      "cell_type": "code",
      "metadata": {
        "id": "bGO1FZ3Q4rtu",
        "colab_type": "code",
        "colab": {
          "base_uri": "https://localhost:8080/",
          "height": 34
        },
        "outputId": "9a424dbe-7a7a-43a3-ad35-d85e46995e7d"
      },
      "source": [
        "2+2"
      ],
      "execution_count": 1,
      "outputs": [
        {
          "output_type": "execute_result",
          "data": {
            "text/plain": [
              "4"
            ]
          },
          "metadata": {
            "tags": []
          },
          "execution_count": 1
        }
      ]
    },
    {
      "cell_type": "markdown",
      "metadata": {
        "id": "rV85IjSs5dsy",
        "colab_type": "text"
      },
      "source": [
        "# abstract"
      ]
    },
    {
      "cell_type": "markdown",
      "metadata": {
        "id": "Rlo520HO5wlq",
        "colab_type": "text"
      },
      "source": [
        "something in the abstract"
      ]
    },
    {
      "cell_type": "markdown",
      "metadata": {
        "id": "w8KPtp7D50X3",
        "colab_type": "text"
      },
      "source": [
        "# introduction"
      ]
    },
    {
      "cell_type": "markdown",
      "metadata": {
        "id": "JfddVLUW53fc",
        "colab_type": "text"
      },
      "source": [
        "something in the introduction"
      ]
    },
    {
      "cell_type": "markdown",
      "metadata": {
        "id": "e4a-E3Xg6GN0",
        "colab_type": "text"
      },
      "source": [
        "![image of sunset](https://raw.githubusercontent.com/tedesco13/SRA268/master/photo-1503803548695-c2a7b4a5b875.jpeg)"
      ]
    }
  ]
}